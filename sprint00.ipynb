{
  "nbformat": 4,
  "nbformat_minor": 0,
  "metadata": {
    "colab": {
      "name": "sprint00.ipynb",
      "provenance": [],
      "collapsed_sections": []
    },
    "kernelspec": {
      "name": "python3",
      "display_name": "Python 3"
    },
    "language_info": {
      "name": "python"
    }
  },
  "cells": [
    {
      "cell_type": "markdown",
      "metadata": {
        "id": "Q1Jso4iK1qeN"
      },
      "source": [
        "hello_world.py"
      ]
    },
    {
      "cell_type": "code",
      "metadata": {
        "id": "i9kdvQzz2aAU"
      },
      "source": [
        "import os"
      ],
      "execution_count": 8,
      "outputs": []
    },
    {
      "cell_type": "code",
      "metadata": {
        "colab": {
          "base_uri": "https://localhost:8080/"
        },
        "id": "SAcawIt61cNS",
        "outputId": "7b4d645a-a951-4e37-d523-ecd08572bbeb"
      },
      "source": [
        "print('Hello world! It is I, Arthur, son of Uther Pendragon, from the castle of Camelot.')"
      ],
      "execution_count": 1,
      "outputs": [
        {
          "output_type": "stream",
          "text": [
            "Hello world! It is I, Arthur, son of Uther Pendragon, from the castle of Camelot.\n"
          ],
          "name": "stdout"
        }
      ]
    },
    {
      "cell_type": "markdown",
      "metadata": {
        "id": "dHMOTyfe1xCu"
      },
      "source": [
        "data_types.py"
      ]
    },
    {
      "cell_type": "code",
      "metadata": {
        "colab": {
          "base_uri": "https://localhost:8080/"
        },
        "id": "HzijAABI1mne",
        "outputId": "b8842373-4ae9-4095-f19f-9475f9fa9e7c"
      },
      "source": [
        "print(50, -42.00001, 'Monty Python', True, sep='\\n')"
      ],
      "execution_count": 11,
      "outputs": [
        {
          "output_type": "stream",
          "text": [
            "50\n",
            "-42.00001\n",
            "Monty Python\n",
            "True\n"
          ],
          "name": "stdout"
        }
      ]
    },
    {
      "cell_type": "markdown",
      "metadata": {
        "id": "PQlIgg-o3Pfa"
      },
      "source": [
        "var.py"
      ]
    },
    {
      "cell_type": "code",
      "metadata": {
        "colab": {
          "base_uri": "https://localhost:8080/"
        },
        "id": "2U_tImm42IQ4",
        "outputId": "4c947463-e1a1-4073-acf2-f9471e74e047"
      },
      "source": [
        "my_int, my_float, my_str, my_bool = 1, 2.123, 'Tis but a scratch.', False\n",
        "print(type(my_int), type(my_float), type(my_str), type(my_bool), sep='\\n')"
      ],
      "execution_count": 12,
      "outputs": [
        {
          "output_type": "stream",
          "text": [
            "<class 'int'>\n",
            "<class 'float'>\n",
            "<class 'str'>\n",
            "<class 'bool'>\n"
          ],
          "name": "stdout"
        }
      ]
    },
    {
      "cell_type": "markdown",
      "metadata": {
        "id": "LcgkFYGn5inx"
      },
      "source": [
        "concatenate.py"
      ]
    },
    {
      "cell_type": "code",
      "metadata": {
        "colab": {
          "base_uri": "https://localhost:8080/"
        },
        "id": "kWg6kqr14vuM",
        "outputId": "9ee87353-3660-46f1-90a4-e4a14e9d692f"
      },
      "source": [
        "first_name, last_name = 'Monty', 'Python'\n",
        "full_name = first_name + ' ' + last_name\n",
        "print(full_name)"
      ],
      "execution_count": 14,
      "outputs": [
        {
          "output_type": "stream",
          "text": [
            "Monty Python\n"
          ],
          "name": "stdout"
        }
      ]
    },
    {
      "cell_type": "markdown",
      "metadata": {
        "id": "YAJ-DePa6hsZ"
      },
      "source": [
        "input.py"
      ]
    },
    {
      "cell_type": "code",
      "metadata": {
        "colab": {
          "base_uri": "https://localhost:8080/"
        },
        "id": "dZ3CkKIs6Wu_",
        "outputId": "750f9852-de0f-467e-b3aa-d02dfc9f7958"
      },
      "source": [
        "# print('BRIDGEKEEPER: Stop.\\nWho would cross the Bridge of Death'\n",
        "#       'must answer me these questions three.\\n'\n",
        "#       'BRIDGEKEEPER: What is your name?')\n",
        "name = input('BRIDGEKEEPER: Stop.\\nWho would cross the Bridge of Death must answer me these questions three.\\nBRIDGEKEEPER: What is your name?\\n')\n",
        "# print('BRIDGEKEEPER: What is your quest?')\n",
        "quest = input('BRIDGEKEEPER: What is your quest?\\n')\n",
        "# print('BRIDGEKEEPER: What is your favorite color?')\n",
        "color = input('BRIDGEKEEPER: What is your favorite color?\\n')\n",
        "print('----------\\nTraveler info:',\n",
        "      f\"Your name is {name}\",\n",
        "      f\"Your quest is {quest}\",\n",
        "      f\"Your favorite color is {color}\",\n",
        "      '----------',\n",
        "      'BRIDGEKEEPER: Right. Off you go.',\n",
        "      sep='\\n')"
      ],
      "execution_count": 31,
      "outputs": [
        {
          "output_type": "stream",
          "text": [
            "BRIDGEKEEPER: Stop.\n",
            "Who would cross the Bridge of Death must answer me these questions three.\n",
            "BRIDGEKEEPER: What is your name?\n",
            "q\n",
            "BRIDGEKEEPER: What is your quest?\n",
            "w\n",
            "BRIDGEKEEPER: What is your favorite color?\n",
            "e\n",
            "----------\n",
            "Traveler info:\n",
            "Your name is q\n",
            "Your quest is w\n",
            "Your favorite color is e\n",
            "----------\n",
            "BRIDGEKEEPER: Right. Off you go.\n"
          ],
          "name": "stdout"
        }
      ]
    },
    {
      "cell_type": "markdown",
      "metadata": {
        "id": "HXIWF4yFAzHn"
      },
      "source": [
        "math.py"
      ]
    },
    {
      "cell_type": "code",
      "metadata": {
        "colab": {
          "base_uri": "https://localhost:8080/"
        },
        "id": "thPllAwh6_tI",
        "outputId": "15a41c03-95f7-4dba-895e-129b5eead5bb"
      },
      "source": [
        "a = input('Enter the first number: ')\n",
        "b = input('Enter the second number: ')\n",
        "a = int(a)\n",
        "b = int(b)\n",
        "\n",
        "print(f'{a} + {b} = {a+b}',\n",
        "      f'{a} - {b} = {a-b}',\n",
        "      f'{a} * {b} = {a*b}',\n",
        "      f'{a} / {b} = {a/b}',\n",
        "      f'{a} % {b} = {a%b}',\n",
        "      f'{a} ** {b} = {a**b}',\n",
        "      f'{a} // {b} = {a*b}', sep='\\n')"
      ],
      "execution_count": 32,
      "outputs": [
        {
          "output_type": "stream",
          "text": [
            "Enter the first number: 7\n",
            "Enter the second number: 4\n",
            "7 + 4 = 11\n",
            "7 - 4 = 3\n",
            "7 * 4 = 28\n",
            "7 / 4 = 1.75\n",
            "7 % 4 = 3\n",
            "7 ** 4 = 2401\n",
            "7 // 4 = 28\n"
          ],
          "name": "stdout"
        }
      ]
    },
    {
      "cell_type": "markdown",
      "metadata": {
        "id": "L3ru9lKLL5Mg"
      },
      "source": [
        "cast.py"
      ]
    },
    {
      "cell_type": "code",
      "metadata": {
        "colab": {
          "base_uri": "https://localhost:8080/"
        },
        "id": "40ecIu4UBpg1",
        "outputId": "93c2f76e-d795-4f19-b8ee-bc8042dd1dcf"
      },
      "source": [
        "a = 3\n",
        "b = 10\n",
        "c = -14.8\n",
        "d = True\n",
        "print('Available variables:',\n",
        "      f'a = {a}',\n",
        "      f'b = {b}',\n",
        "      f'c = {c}',\n",
        "      f'd = {d}', sep='\\n')\n",
        "print('\\nResult:')\n",
        "result = float(a + b)\n",
        "print(f'{a} + {b} = {result}')\n",
        "result = int(c - b)\n",
        "print(f'{c} - {b} = {result}')\n",
        "result = str(c) + str(b)\n",
        "print(f'{a} + {b} = {result}')\n",
        "result = bool(a - a)\n",
        "print(f'{a} - {a} = {result}')"
      ],
      "execution_count": 37,
      "outputs": [
        {
          "output_type": "stream",
          "text": [
            "Available variables:\n",
            "a = 3\n",
            "b = 10\n",
            "c = -14.8\n",
            "d = True\n",
            "\n",
            "Result:\n",
            "3 + 10 = 13.0\n",
            "-14.8 - 10 = -24\n",
            "3 + 10 = -14.810\n",
            "3 - 3 = False\n"
          ],
          "name": "stdout"
        }
      ]
    },
    {
      "cell_type": "markdown",
      "metadata": {
        "id": "QIWxnRaLRHeg"
      },
      "source": [
        "directions.py"
      ]
    },
    {
      "cell_type": "code",
      "metadata": {
        "colab": {
          "base_uri": "https://localhost:8080/"
        },
        "id": "pIu504IlPXeR",
        "outputId": "ce85ea10-754e-4fc4-c430-7fd3257e2d92"
      },
      "source": [
        "sign = input('There are 3 signs in front of you. Which one would you like to read? ')\n",
        "if sign == 'right':\n",
        "    print('The right sign says: \"DEAD PEOPLE ONLY\"')\n",
        "elif sign == 'left':\n",
        "    print('The left sign says: \"BEWARE!\"')\n",
        "elif sign == 'middle':\n",
        "    print('The middle sign says: \"CERTAIN DEATH\"')\n",
        "else:\n",
        "    print(f'There is no {sign} sign')"
      ],
      "execution_count": 39,
      "outputs": [
        {
          "output_type": "stream",
          "text": [
            "There are 3 signs in front of you. Which one would you like to read? top\n",
            "There is no top sign\n"
          ],
          "name": "stdout"
        }
      ]
    },
    {
      "cell_type": "markdown",
      "metadata": {
        "id": "KRc1RtAiVrR9"
      },
      "source": [
        "address.py"
      ]
    },
    {
      "cell_type": "code",
      "metadata": {
        "colab": {
          "base_uri": "https://localhost:8080/"
        },
        "id": "KaxxkyZRVgmr",
        "outputId": "9bee5976-38f8-4c3e-9527-15f054ff2a25"
      },
      "source": [
        "first_var = 1000\n",
        "print(f'first_var = {first_var}, address is {id(first_var)}')\n",
        "second_var = first_var\n",
        "print(f'second_var = {second_var}, address is {id(second_var)}')\n",
        "third_var = 999\n",
        "print(f'third_var = {third_var}, address is {id(third_var)}',\n",
        "      f'{first_var} is {second_var} = {first_var is second_var}',\n",
        "      f'{first_var} is {third_var} = {first_var is third_var}',\n",
        "      sep='\\n')\n"
      ],
      "execution_count": 45,
      "outputs": [
        {
          "output_type": "stream",
          "text": [
            "first_var = 1000, address is 140697751676656\n",
            "second_var = 1000, address is 140697751676656\n",
            "third_var = 999, address is 140697751676432\n",
            "1000 is 1000 = True\n",
            "1000 is 999 = False\n"
          ],
          "name": "stdout"
        }
      ]
    },
    {
      "cell_type": "markdown",
      "metadata": {
        "id": "FmLvY_9majSy"
      },
      "source": [
        "rid.py"
      ]
    },
    {
      "cell_type": "code",
      "metadata": {
        "colab": {
          "base_uri": "https://localhost:8080/",
          "height": 215
        },
        "id": "KxG5hvJqYlvc",
        "outputId": "ed9f173a-767c-4347-8d74-2559c7796408"
      },
      "source": [
        "my_number= 1\n",
        "print(my_number)\n",
        "del my_number\n",
        "print(my_number)"
      ],
      "execution_count": 50,
      "outputs": [
        {
          "output_type": "stream",
          "text": [
            "1\n"
          ],
          "name": "stdout"
        },
        {
          "output_type": "error",
          "ename": "NameError",
          "evalue": "ignored",
          "traceback": [
            "\u001b[0;31m---------------------------------------------------------------------------\u001b[0m",
            "\u001b[0;31mNameError\u001b[0m                                 Traceback (most recent call last)",
            "\u001b[0;32m<ipython-input-50-2fa63d519feb>\u001b[0m in \u001b[0;36m<module>\u001b[0;34m()\u001b[0m\n\u001b[1;32m      2\u001b[0m \u001b[0mprint\u001b[0m\u001b[0;34m(\u001b[0m\u001b[0mmy_number\u001b[0m\u001b[0;34m)\u001b[0m\u001b[0;34m\u001b[0m\u001b[0;34m\u001b[0m\u001b[0m\n\u001b[1;32m      3\u001b[0m \u001b[0;32mdel\u001b[0m \u001b[0mmy_number\u001b[0m\u001b[0;34m\u001b[0m\u001b[0;34m\u001b[0m\u001b[0m\n\u001b[0;32m----> 4\u001b[0;31m \u001b[0mprint\u001b[0m\u001b[0;34m(\u001b[0m\u001b[0mmy_number\u001b[0m\u001b[0;34m)\u001b[0m\u001b[0;34m\u001b[0m\u001b[0;34m\u001b[0m\u001b[0m\n\u001b[0m",
            "\u001b[0;31mNameError\u001b[0m: name 'my_number' is not defined"
          ]
        }
      ]
    },
    {
      "cell_type": "markdown",
      "metadata": {
        "id": "lRO9SAiMcXsD"
      },
      "source": [
        "do_op.py"
      ]
    },
    {
      "cell_type": "code",
      "metadata": {
        "colab": {
          "base_uri": "https://localhost:8080/"
        },
        "id": "HiItsSESbxju",
        "outputId": "86bdb8ca-6b74-47a4-e323-6e30506e3d74"
      },
      "source": [
        "print('---- Simple calculator ----',\n",
        "      \"Let's add some numbers\", sep='\\n')\n",
        "a = int(input('Input your first value: '))\n",
        "op = input('Input your operator: ')\n",
        "if op != \"*\" and op != '+' and op != '-' and op != '/':\n",
        "    print(\"usage: the operator must be '*' or '+' or '-' or '/'\")\n",
        "else:\n",
        "    b = int(input('Input your second value: '))\n",
        "    if op == \"+\":\n",
        "        print(f\"{a} + {b} = {int(a) + int(b)}\")\n",
        "    elif op == \"-\":\n",
        "        print(f\"{a} - {b} = {int(a) - int(b)}\")\n",
        "    elif op == \"*\":\n",
        "        print(f\"{a} * {b} = {int(a) * int(b)}\")\n",
        "    elif op == \"/\":\n",
        "        print(f\"{a} / {b} = {int(a) / int(b)}\")\n",
        "print('---- Simple calculator ----')"
      ],
      "execution_count": 62,
      "outputs": [
        {
          "output_type": "stream",
          "text": [
            "---- Simple calculator ----\n",
            "Let's add some numbers\n",
            "Input your first value: 2\n",
            "Input your operator: ++\n",
            "usage: the operator must be '*' or '+' or '-' or '/'\n",
            "---- Simple calculator ----\n"
          ],
          "name": "stdout"
        }
      ]
    },
    {
      "cell_type": "markdown",
      "metadata": {
        "id": "jpV20BrqknMi"
      },
      "source": [
        "bot.py"
      ]
    },
    {
      "cell_type": "code",
      "metadata": {
        "id": "GhyWRyNLgKBB"
      },
      "source": [
        ""
      ],
      "execution_count": null,
      "outputs": []
    }
  ]
}